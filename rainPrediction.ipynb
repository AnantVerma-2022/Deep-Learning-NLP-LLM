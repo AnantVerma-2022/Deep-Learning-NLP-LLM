{
 "cells": [
  {
   "cell_type": "markdown",
   "id": "9c57b9d1",
   "metadata": {},
   "source": [
    "# Problem Statement\n",
    "\n",
    "Rainfall Prediction Using Artificial Neural Network on Multi-City Weather Data \n",
    "(2024–2025):\n",
    "\n",
    "To design, train, and evaluate an **Artificial Neural Network (ANN)** that predicts whether it will rain the next day using historical weather data. \n",
    "\n",
    "**Keywords** - Data preprocessing, feature engineering, and ANN architectures.\n",
    "\n",
    "Dataset Link - [Download](https://www.kaggle.com/datasets/waqi786/usa-rainfall-prediction-dataset-2024-2025/data)\n",
    "\n"
   ]
  },
  {
   "cell_type": "code",
   "execution_count": 3,
   "id": "d6569d5b",
   "metadata": {},
   "outputs": [],
   "source": [
    "# import dependancies\n",
    "\n",
    "import numpy as np\n",
    "import pandas as pd\n",
    "\n",
    "import seaborn as sns\n",
    "import matplotlib.pyplot as plt\n",
    "\n",
    "import warnings\n",
    "warnings.filterwarnings('ignore')"
   ]
  },
  {
   "cell_type": "code",
   "execution_count": 5,
   "id": "0d697a4b",
   "metadata": {},
   "outputs": [
    {
     "data": {
      "text/html": [
       "<div>\n",
       "<style scoped>\n",
       "    .dataframe tbody tr th:only-of-type {\n",
       "        vertical-align: middle;\n",
       "    }\n",
       "\n",
       "    .dataframe tbody tr th {\n",
       "        vertical-align: top;\n",
       "    }\n",
       "\n",
       "    .dataframe thead th {\n",
       "        text-align: right;\n",
       "    }\n",
       "</style>\n",
       "<table border=\"1\" class=\"dataframe\">\n",
       "  <thead>\n",
       "    <tr style=\"text-align: right;\">\n",
       "      <th></th>\n",
       "      <th>Date</th>\n",
       "      <th>Location</th>\n",
       "      <th>Temperature</th>\n",
       "      <th>Humidity</th>\n",
       "      <th>Wind Speed</th>\n",
       "      <th>Precipitation</th>\n",
       "      <th>Cloud Cover</th>\n",
       "      <th>Pressure</th>\n",
       "      <th>Rain Tomorrow</th>\n",
       "    </tr>\n",
       "  </thead>\n",
       "  <tbody>\n",
       "    <tr>\n",
       "      <th>0</th>\n",
       "      <td>2024-01-01</td>\n",
       "      <td>New York</td>\n",
       "      <td>87.524795</td>\n",
       "      <td>75.655455</td>\n",
       "      <td>28.379506</td>\n",
       "      <td>0.000000</td>\n",
       "      <td>69.617966</td>\n",
       "      <td>1026.030278</td>\n",
       "      <td>0</td>\n",
       "    </tr>\n",
       "    <tr>\n",
       "      <th>1</th>\n",
       "      <td>2024-01-02</td>\n",
       "      <td>New York</td>\n",
       "      <td>83.259325</td>\n",
       "      <td>28.712617</td>\n",
       "      <td>12.436433</td>\n",
       "      <td>0.526995</td>\n",
       "      <td>41.606048</td>\n",
       "      <td>995.962065</td>\n",
       "      <td>0</td>\n",
       "    </tr>\n",
       "    <tr>\n",
       "      <th>2</th>\n",
       "      <td>2024-01-03</td>\n",
       "      <td>New York</td>\n",
       "      <td>80.943050</td>\n",
       "      <td>64.740043</td>\n",
       "      <td>14.184831</td>\n",
       "      <td>0.916884</td>\n",
       "      <td>77.364763</td>\n",
       "      <td>980.796739</td>\n",
       "      <td>1</td>\n",
       "    </tr>\n",
       "    <tr>\n",
       "      <th>3</th>\n",
       "      <td>2024-01-04</td>\n",
       "      <td>New York</td>\n",
       "      <td>78.097552</td>\n",
       "      <td>59.738984</td>\n",
       "      <td>19.444029</td>\n",
       "      <td>0.094134</td>\n",
       "      <td>52.541196</td>\n",
       "      <td>979.012163</td>\n",
       "      <td>0</td>\n",
       "    </tr>\n",
       "    <tr>\n",
       "      <th>4</th>\n",
       "      <td>2024-01-05</td>\n",
       "      <td>New York</td>\n",
       "      <td>37.059963</td>\n",
       "      <td>34.766784</td>\n",
       "      <td>3.689661</td>\n",
       "      <td>1.361272</td>\n",
       "      <td>85.584000</td>\n",
       "      <td>1031.790859</td>\n",
       "      <td>0</td>\n",
       "    </tr>\n",
       "  </tbody>\n",
       "</table>\n",
       "</div>"
      ],
      "text/plain": [
       "         Date  Location  Temperature   Humidity  Wind Speed  Precipitation  \\\n",
       "0  2024-01-01  New York    87.524795  75.655455   28.379506       0.000000   \n",
       "1  2024-01-02  New York    83.259325  28.712617   12.436433       0.526995   \n",
       "2  2024-01-03  New York    80.943050  64.740043   14.184831       0.916884   \n",
       "3  2024-01-04  New York    78.097552  59.738984   19.444029       0.094134   \n",
       "4  2024-01-05  New York    37.059963  34.766784    3.689661       1.361272   \n",
       "\n",
       "   Cloud Cover     Pressure  Rain Tomorrow  \n",
       "0    69.617966  1026.030278              0  \n",
       "1    41.606048   995.962065              0  \n",
       "2    77.364763   980.796739              1  \n",
       "3    52.541196   979.012163              0  \n",
       "4    85.584000  1031.790859              0  "
      ]
     },
     "execution_count": 5,
     "metadata": {},
     "output_type": "execute_result"
    }
   ],
   "source": [
    "# Reading dataset\n",
    "\n",
    "dataset = pd.read_csv(\"usa_rain_prediction_dataset_2024_2025.csv\")\n",
    "dataset.head()"
   ]
  },
  {
   "cell_type": "code",
   "execution_count": 9,
   "id": "392f0365",
   "metadata": {},
   "outputs": [
    {
     "name": "stdout",
     "output_type": "stream",
     "text": [
      "['Date', 'Location', 'Temperature', 'Humidity', 'Wind Speed', 'Precipitation', 'Cloud Cover', 'Pressure', 'Rain Tomorrow']\n"
     ]
    }
   ],
   "source": [
    "# check what are different features\n",
    "\n",
    "print(dataset.columns.to_list())"
   ]
  },
  {
   "cell_type": "code",
   "execution_count": 10,
   "id": "d6773d0f",
   "metadata": {},
   "outputs": [
    {
     "name": "stdout",
     "output_type": "stream",
     "text": [
      "(73100, 9)\n"
     ]
    }
   ],
   "source": [
    "# Dataset shape\n",
    "\n",
    "print(dataset.shape)"
   ]
  },
  {
   "cell_type": "code",
   "execution_count": 11,
   "id": "ee093ba7",
   "metadata": {},
   "outputs": [
    {
     "name": "stdout",
     "output_type": "stream",
     "text": [
      "<class 'pandas.core.frame.DataFrame'>\n",
      "RangeIndex: 73100 entries, 0 to 73099\n",
      "Data columns (total 9 columns):\n",
      " #   Column         Non-Null Count  Dtype  \n",
      "---  ------         --------------  -----  \n",
      " 0   Date           73100 non-null  object \n",
      " 1   Location       73100 non-null  object \n",
      " 2   Temperature    73100 non-null  float64\n",
      " 3   Humidity       73100 non-null  float64\n",
      " 4   Wind Speed     73100 non-null  float64\n",
      " 5   Precipitation  73100 non-null  float64\n",
      " 6   Cloud Cover    73100 non-null  float64\n",
      " 7   Pressure       73100 non-null  float64\n",
      " 8   Rain Tomorrow  73100 non-null  int64  \n",
      "dtypes: float64(6), int64(1), object(2)\n",
      "memory usage: 5.0+ MB\n"
     ]
    }
   ],
   "source": [
    "# Basic info\n",
    "\n",
    "dataset.info()"
   ]
  },
  {
   "cell_type": "markdown",
   "id": "4bf14a0e",
   "metadata": {},
   "source": [
    "Dataset hasn't missing values and all freatures are numeric except Date and Location"
   ]
  },
  {
   "cell_type": "code",
   "execution_count": 12,
   "id": "fa3e0a6c",
   "metadata": {},
   "outputs": [
    {
     "data": {
      "text/plain": [
       "Date             0\n",
       "Location         0\n",
       "Temperature      0\n",
       "Humidity         0\n",
       "Wind Speed       0\n",
       "Precipitation    0\n",
       "Cloud Cover      0\n",
       "Pressure         0\n",
       "Rain Tomorrow    0\n",
       "dtype: int64"
      ]
     },
     "execution_count": 12,
     "metadata": {},
     "output_type": "execute_result"
    }
   ],
   "source": [
    "# Again check missing values\n",
    "\n",
    "dataset.isnull().sum()"
   ]
  },
  {
   "cell_type": "code",
   "execution_count": null,
   "id": "44f4ffd8",
   "metadata": {},
   "outputs": [],
   "source": []
  }
 ],
 "metadata": {
  "kernelspec": {
   "display_name": "dlgenai25",
   "language": "python",
   "name": "python3"
  },
  "language_info": {
   "codemirror_mode": {
    "name": "ipython",
    "version": 3
   },
   "file_extension": ".py",
   "mimetype": "text/x-python",
   "name": "python",
   "nbconvert_exporter": "python",
   "pygments_lexer": "ipython3",
   "version": "3.10.16"
  }
 },
 "nbformat": 4,
 "nbformat_minor": 5
}
